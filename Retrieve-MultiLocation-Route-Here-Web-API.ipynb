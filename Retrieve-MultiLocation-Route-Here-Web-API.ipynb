{
 "cells": [
  {
   "cell_type": "markdown",
   "metadata": {},
   "source": [
    "# Retrieve Route for Multiple Locations using Here API"
   ]
  },
  {
   "cell_type": "markdown",
   "metadata": {},
   "source": [
    "## What is an API?\n",
    "*** "
   ]
  },
  {
   "cell_type": "markdown",
   "metadata": {},
   "source": [
    "An **API (Application Programming Interface)** is something that any particular website can design to this thing called an API to give out their data and allow your web application to communicate with that data. Facebook, Twitter, Yelp, and many other services rely and have their own API's.\n",
    "\n",
    "With APIs, applications talk to each other without any user knowledge or intervention.\n",
    "\n",
    "When we want to interact with an API in Python (like accessing web services), we get the **responses** in a form called JSON. "
   ]
  },
  {
   "cell_type": "markdown",
   "metadata": {},
   "source": [
    "## What is JSON?\n",
    "***\n",
    "\n",
    "**JSON (JavaScript Object Notation)** is a compact, text based format for computers\n",
    "to exchange data and is once loaded into Python just like a **dictionary**.\n",
    "\n",
    "JSON data structures map directly to Python data types, which makes this a powerful tool for directly accessing data.\n",
    "\n",
    "This makes JSON an ideal format for transporting data between a client and a server."
   ]
  },
  {
   "cell_type": "markdown",
   "metadata": {},
   "source": [
    "## JSON vs Dictionary\n",
    "***\n",
    "\n",
    "It is apples vs. oranges comparison:\n",
    "\n",
    "- **JSON** is a data format (a string).\n",
    "\n",
    "- **Python dictionary** is a data structure (in-memory object)."
   ]
  },
  {
   "cell_type": "markdown",
   "metadata": {},
   "source": [
    "## Terminologies\n",
    "***\n",
    "- **API Key:** When using any API, normally you'll need to acquire an API Key. This key acts as a form of authentication, which can lead to access control\n",
    "- **Key:** All keys are of string type\n",
    "- **Value:** Values can be either strings, numbers, lists, booleans, or even another object (dictionary)\n",
    "- **URL Request:** This is the URL that you can make a request to the website's API with. \n",
    "- **Response:** Once a request has been made, you'll recieve a JSON response.\n",
    "- **Search Query:** This is the query that is used to get back any information of a particular API"
   ]
  },
  {
   "cell_type": "markdown",
   "metadata": {},
   "source": [
    "# How to Query a JSON API in Python\n",
    "***\n",
    "\n",
    "### Objective\n",
    "1. Learn how to communicate with an API in your Python application\n",
    "2. Learn how to get data out of your JSON format.\n",
    "3. Learn how to query multiple API calls\n",
    "4. Learn how to convert our newly acquired JSON objects into a Pandas DataFrame\n",
    "\n",
    "### Here are the 4 Simple Steps:\n",
    "\n",
    "1. Import Library Dependencies\n",
    "2. Create Query URL (which contains the url, apikey, and query filters)\n",
    "3. Perform a Request Call & Convert to JSON\n",
    "4. Extract Data from JSON Response (Query it)"
   ]
  },
  {
   "cell_type": "markdown",
   "metadata": {},
   "source": [
    "<img src='https://appstickers-cdn.appadvice.com/1152768104/819323113/9a735dc3f9eee3f2349c22e0e00764d9-0.png'>\n",
    "\n",
    "# TASK\n",
    "***\n",
    "Get weather information from the city of **Los Angeles.**\n",
    "\n",
    "## Step 0. Create an API Key\n",
    "\n",
    "\n",
    "It is very simple:\n",
    "1. Just register on the Sign up page https://home.openweathermap.org/users/sign_up\n",
    "2. Get your unique API key on your personal page"
   ]
  },
  {
   "cell_type": "code",
   "execution_count": 20,
   "metadata": {},
   "outputs": [],
   "source": [
    "__author__ = \"Christopher Himmel\"\n",
    "__copyright__ = \"Copyright 2019, Deeper Side Of Learning\"\n",
    "__email__ = \"chris@deepersideoflearning.com\"\n",
    "\n",
    "## Step 1. Import Library Dependencies\n",
    "# Dependencies\n",
    "import requests as req\n",
    "import json\n",
    "import pandas as pd"
   ]
  },
  {
   "cell_type": "markdown",
   "metadata": {},
   "source": [
    "## Step 2. Create Query URL\n",
    "\n",
    "**Query URL** is used to get our information from the API call.\n",
    "\n",
    "Once you decided what search queries to look for, your **complete Query URL** should look like this: \n",
    "\n",
    "https://wse.api.here.com/2/\n",
    "/findpickups.json\n",
    "?mode=fastest;car;traffic:disabled\n",
    "&start=waypoint0;50.115620,8.631210\n",
    "&departure=2016-10-14T07:30:00+02:00\n",
    "&vehicleCost=0.29\n",
    "&driverCost=20\n",
    "&maxDetour=60\n",
    "&restTimes=disabled\n",
    "&end=waypoint3;50.132540,8.649280\n",
    "&destination0=waypoint1;50.122540,8.631070;pickup:LOAD2\n",
    "&destination1=waypoint2;50.128920,8.629830;drop:LOAD2,value:200\n",
    "&app_id={YOUR_APP_ID}\n",
    "&app_code={YOUR_APP_CODE}\n",
    "\n",
    "**IMPORTANT NOTE:** \n",
    "- The \"**?**\" syntax is used in the begginning of our query string so we can start building a filterized version of our data\n",
    "- The \"**&**\" syntax is used to perform our different types of queries, in this case one for city and units"
   ]
  },
  {
   "cell_type": "code",
   "execution_count": 21,
   "metadata": {},
   "outputs": [
    {
     "data": {
      "text/plain": [
       "'https://wse.api.here.com/2//findpickups.json?mode=fastest;car;traffic:disabled&start=waypoint0;50.115620,8.631210&departure=2016-10-14T07:30:00+02:00&vehicleCost=0.29&driverCost=20&maxDetour=60&restTimes=disabled&end=waypoint3;50.132540,8.649280&destination0=waypoint1;50.122540,8.631070;pickup:LOAD2&destination1=waypoint2;50.128920,8.629830;drop:LOAD2,value:200&app_id={32SZZi8UYe8C7VZcKWXy}&app_code={wLWAa2tEmxgDRx02Jykwzw}'"
      ]
     },
     "execution_count": 21,
     "metadata": {},
     "output_type": "execute_result"
    }
   ],
   "source": [
    "# A. Get our base URL for the Open Weather API\n",
    "base_url = \"https://wse.api.here.com/2//findpickups.json?mode=fastest;car;traffic:disabled\"\n",
    "\n",
    "# B1. Get our APP ID \n",
    "app_id = \"32SZZi8UYe8C7VZcKWXy\"\n",
    "# B2. Get our APP Code \n",
    "app_code = \"wLWAa2tEmxgDRx02Jykwzw\"\n",
    "\n",
    "# C. Get our query (search filter)\n",
    "start_waypoint = \"&start=waypoint0;50.115620,8.631210\"\n",
    "departure = \"&departure=2016-10-14T07:30:00+02:00\"\n",
    "vehicle_cost = \"&vehicleCost=0.29\"\n",
    "driver_cost = \"&driverCost=20\"\n",
    "max_detour = \"&maxDetour=60\"\n",
    "rest_times = \"&restTimes=disabled\"\n",
    "end_waypoint = \"&end=waypoint3;50.132540,8.649280\"\n",
    "destination_1 = \"&destination0=waypoint1;50.122540,8.631070;pickup:LOAD2\"\n",
    "destination_2 = \"&destination1=waypoint2;50.128920,8.629830;drop:LOAD2,value:200\"\n",
    "\n",
    "# D. Combine everything into our final Query URL\n",
    "query_url = base_url + start_waypoint + departure + vehicle_cost + driver_cost + max_detour + rest_times + end_waypoint + \\\n",
    "    destination_1 + destination_2 + \"&app_id={\" + app_id + \"}&app_code={\" + app_code + \"}\"\n",
    "\n",
    "# Display our final query url\n",
    "query_url"
   ]
  },
  {
   "cell_type": "markdown",
   "metadata": {},
   "source": [
    "## Step 3. Perform a Request Call & Convert to JSON\n"
   ]
  },
  {
   "cell_type": "markdown",
   "metadata": {},
   "source": [
    "**Step 1. Perform a Request Call**\n",
    "\n",
    "Using our **req.get()** method, we'll get back a response from our Weather Map API with the filtered queries. "
   ]
  },
  {
   "cell_type": "code",
   "execution_count": 22,
   "metadata": {},
   "outputs": [
    {
     "data": {
      "text/plain": [
       "<Response [401]>"
      ]
     },
     "execution_count": 22,
     "metadata": {},
     "output_type": "execute_result"
    }
   ],
   "source": [
    "# Perform a Request Call on our search query\n",
    "response = req.get(query_url)\n",
    "response"
   ]
  },
  {
   "cell_type": "markdown",
   "metadata": {},
   "source": [
    "**Step 2. Convert to JSON** \n",
    "\n",
    "Then just call the **.json()** at the end to convert it into a JSON format (aka dictionary)"
   ]
  },
  {
   "cell_type": "code",
   "execution_count": 14,
   "metadata": {
    "scrolled": true
   },
   "outputs": [
    {
     "data": {
      "text/plain": [
       "{'coord': {'lon': -122.42, 'lat': 37.78},\n",
       " 'weather': [{'id': 500,\n",
       "   'main': 'Rain',\n",
       "   'description': 'light rain',\n",
       "   'icon': '10d'},\n",
       "  {'id': 701, 'main': 'Mist', 'description': 'mist', 'icon': '50d'}],\n",
       " 'base': 'stations',\n",
       " 'main': {'temp': 56.95,\n",
       "  'pressure': 1020,\n",
       "  'humidity': 100,\n",
       "  'temp_min': 55.4,\n",
       "  'temp_max': 59},\n",
       " 'visibility': 8047,\n",
       " 'wind': {'speed': 11.41, 'deg': 170},\n",
       " 'rain': {'1h': 0.25},\n",
       " 'clouds': {'all': 90},\n",
       " 'dt': 1547998500,\n",
       " 'sys': {'type': 1,\n",
       "  'id': 4322,\n",
       "  'message': 0.0045,\n",
       "  'country': 'US',\n",
       "  'sunrise': 1547997692,\n",
       "  'sunset': 1548033637},\n",
       " 'id': 5391959,\n",
       " 'name': 'San Francisco',\n",
       " 'cod': 200}"
      ]
     },
     "execution_count": 14,
     "metadata": {},
     "output_type": "execute_result"
    }
   ],
   "source": [
    "response = response.json()\n",
    "response"
   ]
  },
  {
   "cell_type": "markdown",
   "metadata": {},
   "source": [
    "**Extra: json.dumps()**"
   ]
  },
  {
   "cell_type": "code",
   "execution_count": 15,
   "metadata": {
    "scrolled": true
   },
   "outputs": [
    {
     "name": "stdout",
     "output_type": "stream",
     "text": [
      "{\n",
      "    \"base\": \"stations\",\n",
      "    \"clouds\": {\n",
      "        \"all\": 90\n",
      "    },\n",
      "    \"cod\": 200,\n",
      "    \"coord\": {\n",
      "        \"lat\": 37.78,\n",
      "        \"lon\": -122.42\n",
      "    },\n",
      "    \"dt\": 1547998500,\n",
      "    \"id\": 5391959,\n",
      "    \"main\": {\n",
      "        \"humidity\": 100,\n",
      "        \"pressure\": 1020,\n",
      "        \"temp\": 56.95,\n",
      "        \"temp_max\": 59,\n",
      "        \"temp_min\": 55.4\n",
      "    },\n",
      "    \"name\": \"San Francisco\",\n",
      "    \"rain\": {\n",
      "        \"1h\": 0.25\n",
      "    },\n",
      "    \"sys\": {\n",
      "        \"country\": \"US\",\n",
      "        \"id\": 4322,\n",
      "        \"message\": 0.0045,\n",
      "        \"sunrise\": 1547997692,\n",
      "        \"sunset\": 1548033637,\n",
      "        \"type\": 1\n",
      "    },\n",
      "    \"visibility\": 8047,\n",
      "    \"weather\": [\n",
      "        {\n",
      "            \"description\": \"light rain\",\n",
      "            \"icon\": \"10d\",\n",
      "            \"id\": 500,\n",
      "            \"main\": \"Rain\"\n",
      "        },\n",
      "        {\n",
      "            \"description\": \"mist\",\n",
      "            \"icon\": \"50d\",\n",
      "            \"id\": 701,\n",
      "            \"main\": \"Mist\"\n",
      "        }\n",
      "    ],\n",
      "    \"wind\": {\n",
      "        \"deg\": 170,\n",
      "        \"speed\": 11.41\n",
      "    }\n",
      "}\n"
     ]
    }
   ],
   "source": [
    "# Using json.dumps() allows you to easily read the response output\n",
    "print(json.dumps(response, indent=4, sort_keys=True))"
   ]
  },
  {
   "cell_type": "markdown",
   "metadata": {},
   "source": [
    "## Step 4. Extract Data from JSON Response\n",
    "Finally, we're able to access our JSON object and extract information from it just as if it was a **Python Dictionary**.\n",
    "\n",
    "Remember, a JSON object contains a **key-value pair**."
   ]
  },
  {
   "cell_type": "code",
   "execution_count": 16,
   "metadata": {},
   "outputs": [
    {
     "name": "stdout",
     "output_type": "stream",
     "text": [
      "The temperature is 56.95\n",
      "The description for the weather is light rain\n"
     ]
    }
   ],
   "source": [
    "# Extract the temperature data from our JSON Response\n",
    "temperature = response['main']['temp']\n",
    "print (\"The temperature is \" + str(temperature))\n",
    "\n",
    "# Extract the weather description from our JSON Response\n",
    "weather_description = response['weather'][0]['description']\n",
    "print (\"The description for the weather is \" + weather_description)"
   ]
  },
  {
   "cell_type": "markdown",
   "metadata": {},
   "source": [
    "## How to Perform Multiple API Calls\n",
    "***\n",
    "So far so good, right? In five simple steps, you were able to perform an API request call, convert it into a JSON format, and extract information from it! \n",
    "\n",
    "But this was only for one query. What if we wanted to query multiple cities? **Here's how:**"
   ]
  },
  {
   "cell_type": "code",
   "execution_count": 18,
   "metadata": {},
   "outputs": [],
   "source": [
    "# A. Get our base URL for the Open Weather API\n",
    "base_url = \"http://api.openweathermap.org/data/2.5/weather\"\n",
    "\n",
    "# B. Get our API Key \n",
    "key = \"c703c966f9be8a0c4869b86832a0898f\"\n",
    "\n",
    "# C. Create an empty list to store our JSON response objects\n",
    "weather_data = []\n",
    "\n",
    "# D. Define the multiple cities we would like to make a request for\n",
    "cities = [\"London\", \"Paris\", \"Las Vegas\", \"Stockholm\", \"Sydney\", \"Hong Kong\"]\n",
    "\n",
    "# E. Read through each city in our cities list and perform a request call to the API.\n",
    "# Store each JSON response object into the list\n",
    "for city in cities:\n",
    "    query_url = base_url + \"?apikey=\" + key + \"&q=\" + city\n",
    "    weather_data.append(req.get(query_url).json())"
   ]
  },
  {
   "cell_type": "code",
   "execution_count": 19,
   "metadata": {},
   "outputs": [
    {
     "data": {
      "text/plain": [
       "[{'coord': {'lon': -0.13, 'lat': 51.51},\n",
       "  'weather': [{'id': 300,\n",
       "    'main': 'Drizzle',\n",
       "    'description': 'light intensity drizzle',\n",
       "    'icon': '09n'},\n",
       "   {'id': 701, 'main': 'Mist', 'description': 'mist', 'icon': '50n'}],\n",
       "  'base': 'stations',\n",
       "  'main': {'temp': 277.46,\n",
       "   'pressure': 1009,\n",
       "   'humidity': 80,\n",
       "   'temp_min': 276.15,\n",
       "   'temp_max': 278.15},\n",
       "  'visibility': 10000,\n",
       "  'wind': {'speed': 3.6, 'deg': 120},\n",
       "  'clouds': {'all': 90},\n",
       "  'dt': 1547920200,\n",
       "  'sys': {'type': 1,\n",
       "   'id': 1414,\n",
       "   'message': 0.0048,\n",
       "   'country': 'GB',\n",
       "   'sunrise': 1547884515,\n",
       "   'sunset': 1547915280},\n",
       "  'id': 2643743,\n",
       "  'name': 'London',\n",
       "  'cod': 200},\n",
       " {'coord': {'lon': 2.35, 'lat': 48.86},\n",
       "  'weather': [{'id': 701,\n",
       "    'main': 'Mist',\n",
       "    'description': 'mist',\n",
       "    'icon': '50n'},\n",
       "   {'id': 500, 'main': 'Rain', 'description': 'light rain', 'icon': '10n'},\n",
       "   {'id': 615,\n",
       "    'main': 'Snow',\n",
       "    'description': 'light rain and snow',\n",
       "    'icon': '13n'}],\n",
       "  'base': 'stations',\n",
       "  'main': {'temp': 274.15,\n",
       "   'pressure': 1008,\n",
       "   'humidity': 100,\n",
       "   'temp_min': 274.15,\n",
       "   'temp_max': 274.15},\n",
       "  'visibility': 2900,\n",
       "  'wind': {'speed': 3.6, 'deg': 130},\n",
       "  'clouds': {'all': 90},\n",
       "  'dt': 1547919000,\n",
       "  'sys': {'type': 1,\n",
       "   'id': 6550,\n",
       "   'message': 0.0039,\n",
       "   'country': 'FR',\n",
       "   'sunrise': 1547883312,\n",
       "   'sunset': 1547915291},\n",
       "  'id': 2988507,\n",
       "  'name': 'Paris',\n",
       "  'cod': 200},\n",
       " {'coord': {'lon': -115.15, 'lat': 36.17},\n",
       "  'weather': [{'id': 800,\n",
       "    'main': 'Clear',\n",
       "    'description': 'clear sky',\n",
       "    'icon': '01d'}],\n",
       "  'base': 'stations',\n",
       "  'main': {'temp': 281.92,\n",
       "   'pressure': 1031,\n",
       "   'humidity': 40,\n",
       "   'temp_min': 278.35,\n",
       "   'temp_max': 285.15},\n",
       "  'visibility': 16093,\n",
       "  'wind': {'speed': 4.1, 'deg': 330},\n",
       "  'clouds': {'all': 1},\n",
       "  'dt': 1547920500,\n",
       "  'sys': {'type': 1,\n",
       "   'id': 3527,\n",
       "   'message': 0.0031,\n",
       "   'country': 'US',\n",
       "   'sunrise': 1547909351,\n",
       "   'sunset': 1547945655},\n",
       "  'id': 5506956,\n",
       "  'name': 'Las Vegas',\n",
       "  'cod': 200},\n",
       " {'coord': {'lon': 18.07, 'lat': 59.33},\n",
       "  'weather': [{'id': 800,\n",
       "    'main': 'Clear',\n",
       "    'description': 'clear sky',\n",
       "    'icon': '01n'}],\n",
       "  'base': 'stations',\n",
       "  'main': {'temp': 270.08,\n",
       "   'pressure': 1007,\n",
       "   'humidity': 74,\n",
       "   'temp_min': 269.15,\n",
       "   'temp_max': 272.15},\n",
       "  'visibility': 10000,\n",
       "  'wind': {'speed': 4.6, 'deg': 260},\n",
       "  'clouds': {'all': 0},\n",
       "  'dt': 1547920200,\n",
       "  'sys': {'type': 1,\n",
       "   'id': 1788,\n",
       "   'message': 0.0363,\n",
       "   'country': 'SE',\n",
       "   'sunrise': 1547882597,\n",
       "   'sunset': 1547908467},\n",
       "  'id': 2673730,\n",
       "  'name': 'Stockholm',\n",
       "  'cod': 200},\n",
       " {'coord': {'lon': 151.22, 'lat': -33.85},\n",
       "  'weather': [{'id': 803,\n",
       "    'main': 'Clouds',\n",
       "    'description': 'broken clouds',\n",
       "    'icon': '04n'}],\n",
       "  'base': 'stations',\n",
       "  'main': {'temp': 294.05,\n",
       "   'pressure': 1019,\n",
       "   'humidity': 83,\n",
       "   'temp_min': 293.15,\n",
       "   'temp_max': 295.15},\n",
       "  'visibility': 10000,\n",
       "  'wind': {'speed': 4.1, 'deg': 200},\n",
       "  'clouds': {'all': 75},\n",
       "  'dt': 1547919000,\n",
       "  'sys': {'type': 1,\n",
       "   'id': 9600,\n",
       "   'message': 0.0044,\n",
       "   'country': 'AU',\n",
       "   'sunrise': 1547838229,\n",
       "   'sunset': 1547888851},\n",
       "  'id': 2147714,\n",
       "  'name': 'Sydney',\n",
       "  'cod': 200},\n",
       " {'coord': {'lon': 114.16, 'lat': 22.28},\n",
       "  'weather': [{'id': 802,\n",
       "    'main': 'Clouds',\n",
       "    'description': 'scattered clouds',\n",
       "    'icon': '03n'}],\n",
       "  'base': 'stations',\n",
       "  'main': {'temp': 292.49,\n",
       "   'pressure': 1019,\n",
       "   'humidity': 77,\n",
       "   'temp_min': 291.15,\n",
       "   'temp_max': 293.15},\n",
       "  'visibility': 10000,\n",
       "  'wind': {'speed': 5.7, 'deg': 80},\n",
       "  'clouds': {'all': 40},\n",
       "  'dt': 1547919000,\n",
       "  'sys': {'type': 1,\n",
       "   'id': 9154,\n",
       "   'message': 0.0055,\n",
       "   'country': 'CN',\n",
       "   'sunrise': 1547852702,\n",
       "   'sunset': 1547892205},\n",
       "  'id': 1819729,\n",
       "  'name': 'Hong Kong',\n",
       "  'cod': 200}]"
      ]
     },
     "execution_count": 19,
     "metadata": {},
     "output_type": "execute_result"
    }
   ],
   "source": [
    "# Now our weather_data list contains 6 different JSON objects for each city\n",
    "# Print the first city (London) \n",
    "weather_data"
   ]
  },
  {
   "cell_type": "markdown",
   "metadata": {},
   "source": [
    "## Extract Multiple Queries and Store in Pandas DataFrame\n",
    "***"
   ]
  },
  {
   "cell_type": "markdown",
   "metadata": {},
   "source": [
    "### Method 1: For Loop"
   ]
  },
  {
   "cell_type": "code",
   "execution_count": 20,
   "metadata": {},
   "outputs": [
    {
     "name": "stdout",
     "output_type": "stream",
     "text": [
      "The City Name List: ['London', 'Paris', 'Las Vegas', 'Stockholm', 'Sydney', 'Hong Kong']\n",
      "The Temperature List: [277.46, 274.15, 281.92, 270.08, 294.05, 292.49]\n",
      "The Weather Description List: ['light intensity drizzle', 'mist', 'clear sky', 'clear sky', 'broken clouds', 'scattered clouds']\n"
     ]
    }
   ],
   "source": [
    "# Create an empty list for each variable\n",
    "city_name = []\n",
    "temperature_data = []\n",
    "weather_description_data = []\n",
    "\n",
    "# Extract the city name, temperature, and weather description of each City\n",
    "for data in weather_data:\n",
    "    city_name.append(data['name'])\n",
    "    temperature_data.append(data['main']['temp'])\n",
    "    weather_description_data.append(data['weather'][0]['description'])\n",
    "\n",
    "# Print out the list to make sure the queries were extracted \n",
    "print (\"The City Name List: \" + str(city_name))\n",
    "print (\"The Temperature List: \" + str(temperature_data))\n",
    "print (\"The Weather Description List: \" + str(weather_description_data))"
   ]
  },
  {
   "cell_type": "markdown",
   "metadata": {},
   "source": [
    "### Method 2: List Comprehension"
   ]
  },
  {
   "cell_type": "code",
   "execution_count": 21,
   "metadata": {},
   "outputs": [
    {
     "name": "stdout",
     "output_type": "stream",
     "text": [
      "The City Name List: ['London', 'Paris', 'Las Vegas', 'Stockholm', 'Sydney', 'Hong Kong']\n",
      "The Temperature List: [277.46, 274.15, 281.92, 270.08, 294.05, 292.49]\n",
      "The Weather Description List: ['light intensity drizzle', 'mist', 'clear sky', 'clear sky', 'broken clouds', 'scattered clouds']\n"
     ]
    }
   ],
   "source": [
    "# Extract the city name, temperature, and weather description of each City\n",
    "city_name = [data['name'] for data in weather_data]\n",
    "temperature_data = [data['main']['temp'] for data in weather_data]\n",
    "weather_description_data = [data['weather'][0]['description'] for data in weather_data]\n",
    "\n",
    "# Print out the list to make sure the queries were extracted \n",
    "print (\"The City Name List: \" + str(city_name))\n",
    "print (\"The Temperature List: \" + str(temperature_data))\n",
    "print (\"The Weather Description List: \" + str(weather_description_data))"
   ]
  },
  {
   "cell_type": "markdown",
   "metadata": {},
   "source": [
    "### Create a dictionary to store your data"
   ]
  },
  {
   "cell_type": "code",
   "execution_count": 22,
   "metadata": {},
   "outputs": [],
   "source": [
    "# Create a dictionary containing our newly extracted information\n",
    "weather_data = {\"City\": city_name, \n",
    "                \"Temperature\": temperature_data,\n",
    "                \"Weather Description\": weather_description_data}"
   ]
  },
  {
   "cell_type": "markdown",
   "metadata": {},
   "source": [
    "### Convert your dictionary into a Pandas DataFrame"
   ]
  },
  {
   "cell_type": "code",
   "execution_count": 23,
   "metadata": {
    "scrolled": false
   },
   "outputs": [
    {
     "data": {
      "text/html": [
       "<div>\n",
       "<style scoped>\n",
       "    .dataframe tbody tr th:only-of-type {\n",
       "        vertical-align: middle;\n",
       "    }\n",
       "\n",
       "    .dataframe tbody tr th {\n",
       "        vertical-align: top;\n",
       "    }\n",
       "\n",
       "    .dataframe thead th {\n",
       "        text-align: right;\n",
       "    }\n",
       "</style>\n",
       "<table border=\"1\" class=\"dataframe\">\n",
       "  <thead>\n",
       "    <tr style=\"text-align: right;\">\n",
       "      <th></th>\n",
       "      <th>index</th>\n",
       "      <th>City</th>\n",
       "      <th>Temperature</th>\n",
       "      <th>Weather Description</th>\n",
       "    </tr>\n",
       "  </thead>\n",
       "  <tbody>\n",
       "    <tr>\n",
       "      <th>0</th>\n",
       "      <td>0</td>\n",
       "      <td>London</td>\n",
       "      <td>277.46</td>\n",
       "      <td>light intensity drizzle</td>\n",
       "    </tr>\n",
       "    <tr>\n",
       "      <th>1</th>\n",
       "      <td>1</td>\n",
       "      <td>Paris</td>\n",
       "      <td>274.15</td>\n",
       "      <td>mist</td>\n",
       "    </tr>\n",
       "    <tr>\n",
       "      <th>2</th>\n",
       "      <td>2</td>\n",
       "      <td>Las Vegas</td>\n",
       "      <td>281.92</td>\n",
       "      <td>clear sky</td>\n",
       "    </tr>\n",
       "    <tr>\n",
       "      <th>3</th>\n",
       "      <td>3</td>\n",
       "      <td>Stockholm</td>\n",
       "      <td>270.08</td>\n",
       "      <td>clear sky</td>\n",
       "    </tr>\n",
       "    <tr>\n",
       "      <th>4</th>\n",
       "      <td>4</td>\n",
       "      <td>Sydney</td>\n",
       "      <td>294.05</td>\n",
       "      <td>broken clouds</td>\n",
       "    </tr>\n",
       "    <tr>\n",
       "      <th>5</th>\n",
       "      <td>5</td>\n",
       "      <td>Hong Kong</td>\n",
       "      <td>292.49</td>\n",
       "      <td>scattered clouds</td>\n",
       "    </tr>\n",
       "  </tbody>\n",
       "</table>\n",
       "</div>"
      ],
      "text/plain": [
       "   index       City  Temperature      Weather Description\n",
       "0      0     London       277.46  light intensity drizzle\n",
       "1      1      Paris       274.15                     mist\n",
       "2      2  Las Vegas       281.92                clear sky\n",
       "3      3  Stockholm       270.08                clear sky\n",
       "4      4     Sydney       294.05            broken clouds\n",
       "5      5  Hong Kong       292.49         scattered clouds"
      ]
     },
     "execution_count": 23,
     "metadata": {},
     "output_type": "execute_result"
    }
   ],
   "source": [
    "# Convert our dictionary into a Pandas Data Frame\n",
    "weather_data = pd.DataFrame(weather_data).reset_index()\n",
    "weather_data"
   ]
  },
  {
   "cell_type": "markdown",
   "metadata": {},
   "source": [
    "## Review Questions\n",
    "***\n",
    "\n",
    "1. JSON is similar to Python's Dictionary? (T/F)\n",
    "2. What are the three main components that make up a complete API query?\n",
    "3. What is an API Key?\n",
    "4. The query parameter starts with what special character? "
   ]
  },
  {
   "cell_type": "code",
   "execution_count": null,
   "metadata": {},
   "outputs": [],
   "source": []
  }
 ],
 "metadata": {
  "kernelspec": {
   "display_name": "Python 3",
   "language": "python",
   "name": "python3"
  },
  "language_info": {
   "codemirror_mode": {
    "name": "ipython",
    "version": 3
   },
   "file_extension": ".py",
   "mimetype": "text/x-python",
   "name": "python",
   "nbconvert_exporter": "python",
   "pygments_lexer": "ipython3",
   "version": "3.7.0"
  }
 },
 "nbformat": 4,
 "nbformat_minor": 2
}
